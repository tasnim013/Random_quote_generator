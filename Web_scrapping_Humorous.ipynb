{
 "cells": [
  {
   "cell_type": "code",
   "execution_count": 1,
   "id": "therapeutic-toolbox",
   "metadata": {},
   "outputs": [],
   "source": [
    "from bs4 import BeautifulSoup\n",
    "import requests\n",
    "import pandas as pd"
   ]
  },
  {
   "cell_type": "markdown",
   "id": "balanced-cassette",
   "metadata": {},
   "source": [
    "# Source url"
   ]
  },
  {
   "cell_type": "code",
   "execution_count": 2,
   "id": "excellent-bones",
   "metadata": {},
   "outputs": [],
   "source": [
    "url=\"https://blog.vantagecircle.com/funny-work-quotes/\""
   ]
  },
  {
   "cell_type": "markdown",
   "id": "voluntary-apparel",
   "metadata": {},
   "source": [
    "# Make Soup!"
   ]
  },
  {
   "cell_type": "code",
   "execution_count": 3,
   "id": "governmental-hobby",
   "metadata": {},
   "outputs": [],
   "source": [
    "r=requests.get(url)"
   ]
  },
  {
   "cell_type": "code",
   "execution_count": 4,
   "id": "starting-confidence",
   "metadata": {},
   "outputs": [],
   "source": [
    "#print(r.text[0:500])"
   ]
  },
  {
   "cell_type": "code",
   "execution_count": 5,
   "id": "becoming-designation",
   "metadata": {},
   "outputs": [],
   "source": [
    "soup=BeautifulSoup(r.text,\"html.parser\") #get soup object"
   ]
  },
  {
   "cell_type": "markdown",
   "id": "anonymous-cheese",
   "metadata": {},
   "source": [
    "# Find content"
   ]
  },
  {
   "cell_type": "code",
   "execution_count": 13,
   "id": "median-center",
   "metadata": {},
   "outputs": [],
   "source": [
    "cont=soup.find_all(lambda tag: tag.name == 'blockquote' and not tag.attrs)"
   ]
  },
  {
   "cell_type": "code",
   "execution_count": 14,
   "id": "loving-convertible",
   "metadata": {
    "tags": []
   },
   "outputs": [],
   "source": [
    "content=[]\n",
    "for t in cont:\n",
    "    temp=t.find(\"p\").text\n",
    "    content.append(temp)\n",
    "    \n",
    "#Delete unwanted text \n",
    "del(content[0])"
   ]
  },
  {
   "cell_type": "code",
   "execution_count": null,
   "id": "sonic-stick",
   "metadata": {},
   "outputs": [],
   "source": []
  },
  {
   "cell_type": "code",
   "execution_count": 16,
   "id": "decent-radius",
   "metadata": {
    "tags": []
   },
   "outputs": [],
   "source": [
    "final_quotes=[]\n",
    "\n",
    "for c in content:\n",
    "    temp=c.split(\"\\n\")\n",
    "    \n",
    "    # to avoid missing value\n",
    "    if len(temp)>1:  \n",
    "        quote=temp[0]\n",
    "        author=temp[1]\n",
    "        final_quotes.append((quote,author))\n",
    "    "
   ]
  },
  {
   "cell_type": "code",
   "execution_count": null,
   "id": "julian-sister",
   "metadata": {},
   "outputs": [],
   "source": []
  },
  {
   "cell_type": "markdown",
   "id": "gothic-video",
   "metadata": {},
   "source": [
    "# Build a datafile"
   ]
  },
  {
   "cell_type": "code",
   "execution_count": 19,
   "id": "separate-butter",
   "metadata": {},
   "outputs": [],
   "source": [
    "df= pd.DataFrame(final_quotes, columns=[\"Quote\",\"Author\"])"
   ]
  },
  {
   "cell_type": "code",
   "execution_count": 20,
   "id": "found-serial",
   "metadata": {},
   "outputs": [
    {
     "data": {
      "text/html": [
       "<div>\n",
       "<style scoped>\n",
       "    .dataframe tbody tr th:only-of-type {\n",
       "        vertical-align: middle;\n",
       "    }\n",
       "\n",
       "    .dataframe tbody tr th {\n",
       "        vertical-align: top;\n",
       "    }\n",
       "\n",
       "    .dataframe thead th {\n",
       "        text-align: right;\n",
       "    }\n",
       "</style>\n",
       "<table border=\"1\" class=\"dataframe\">\n",
       "  <thead>\n",
       "    <tr style=\"text-align: right;\">\n",
       "      <th></th>\n",
       "      <th>Quote</th>\n",
       "      <th>Author</th>\n",
       "    </tr>\n",
       "  </thead>\n",
       "  <tbody>\n",
       "    <tr>\n",
       "      <th>0</th>\n",
       "      <td>I choose a lazy person to do a hard job, becau...</td>\n",
       "      <td>~ Bill Gates</td>\n",
       "    </tr>\n",
       "    <tr>\n",
       "      <th>1</th>\n",
       "      <td>No man goes before his time—unless the boss le...</td>\n",
       "      <td>~ Groucho Marx</td>\n",
       "    </tr>\n",
       "    <tr>\n",
       "      <th>2</th>\n",
       "      <td>Doing nothing is very hard to do… you never kn...</td>\n",
       "      <td>~ Leslie Nielsen</td>\n",
       "    </tr>\n",
       "    <tr>\n",
       "      <th>3</th>\n",
       "      <td>It takes less time to do a thing right, than i...</td>\n",
       "      <td>~ Henry Wadsworth Longfellow</td>\n",
       "    </tr>\n",
       "    <tr>\n",
       "      <th>4</th>\n",
       "      <td>If you think your boss is stupid, remember: yo...</td>\n",
       "      <td>~ John Gotti</td>\n",
       "    </tr>\n",
       "  </tbody>\n",
       "</table>\n",
       "</div>"
      ],
      "text/plain": [
       "                                               Quote  \\\n",
       "0  I choose a lazy person to do a hard job, becau...   \n",
       "1  No man goes before his time—unless the boss le...   \n",
       "2  Doing nothing is very hard to do… you never kn...   \n",
       "3  It takes less time to do a thing right, than i...   \n",
       "4  If you think your boss is stupid, remember: yo...   \n",
       "\n",
       "                         Author  \n",
       "0                  ~ Bill Gates  \n",
       "1                ~ Groucho Marx  \n",
       "2              ~ Leslie Nielsen  \n",
       "3  ~ Henry Wadsworth Longfellow  \n",
       "4                  ~ John Gotti  "
      ]
     },
     "execution_count": 20,
     "metadata": {},
     "output_type": "execute_result"
    }
   ],
   "source": [
    "df.head()"
   ]
  },
  {
   "cell_type": "markdown",
   "id": "synthetic-fields",
   "metadata": {},
   "source": [
    "## Exporting the dataset to a json file"
   ]
  },
  {
   "cell_type": "code",
   "execution_count": 21,
   "id": "impressive-thousand",
   "metadata": {
    "tags": []
   },
   "outputs": [],
   "source": [
    "df.to_json(\"./humorous_quote.json\",orient=\"index\")"
   ]
  },
  {
   "cell_type": "code",
   "execution_count": null,
   "id": "involved-mounting",
   "metadata": {},
   "outputs": [],
   "source": []
  }
 ],
 "metadata": {
  "kernelspec": {
   "display_name": "Python 3",
   "language": "python",
   "name": "python3"
  },
  "language_info": {
   "codemirror_mode": {
    "name": "ipython",
    "version": 3
   },
   "file_extension": ".py",
   "mimetype": "text/x-python",
   "name": "python",
   "nbconvert_exporter": "python",
   "pygments_lexer": "ipython3",
   "version": "3.8.5"
  }
 },
 "nbformat": 4,
 "nbformat_minor": 5
}
