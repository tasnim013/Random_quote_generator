{
 "cells": [
  {
   "cell_type": "code",
   "execution_count": null,
   "id": "hispanic-juvenile",
   "metadata": {},
   "outputs": [],
   "source": [
    "from bs4 import BeautifulSoup\n",
    "import requests\n",
    "import pandas as pd\n",
    "import json"
   ]
  },
  {
   "cell_type": "markdown",
   "id": "attractive-identifier",
   "metadata": {},
   "source": [
    "# Function to get content"
   ]
  },
  {
   "cell_type": "code",
   "execution_count": null,
   "id": "altered-publisher",
   "metadata": {},
   "outputs": [],
   "source": [
    "def get_content(x,tag=\"\"):\n",
    "    content=[]\n",
    "    \n",
    "    for t in x:\n",
    "        temp=t.find(tag)\n",
    "        if temp:\n",
    "            content.append(temp.text)\n",
    "    return content"
   ]
  },
  {
   "cell_type": "markdown",
   "id": "simple-destruction",
   "metadata": {},
   "source": [
    "# Source url"
   ]
  },
  {
   "cell_type": "code",
   "execution_count": null,
   "id": "cultural-veteran",
   "metadata": {},
   "outputs": [],
   "source": [
    "url=\"https://www.infoplease.com/culture-entertainment/film/top-100-movie-quotes\""
   ]
  },
  {
   "cell_type": "markdown",
   "id": "chronic-webster",
   "metadata": {},
   "source": [
    "# Make Soup!"
   ]
  },
  {
   "cell_type": "code",
   "execution_count": null,
   "id": "bizarre-passion",
   "metadata": {},
   "outputs": [],
   "source": [
    "r=requests.get(url)"
   ]
  },
  {
   "cell_type": "code",
   "execution_count": null,
   "id": "faced-stadium",
   "metadata": {},
   "outputs": [],
   "source": [
    "soup=BeautifulSoup(r.text,\"html.parser\") #get soup object"
   ]
  },
  {
   "cell_type": "markdown",
   "id": "twelve-michigan",
   "metadata": {},
   "source": [
    "# Find content"
   ]
  },
  {
   "cell_type": "code",
   "execution_count": null,
   "id": "former-vision",
   "metadata": {},
   "outputs": [],
   "source": [
    "cont=soup.find_all(lambda tag: tag.name == 'p' and not tag.attrs)"
   ]
  },
  {
   "cell_type": "code",
   "execution_count": null,
   "id": "precious-picnic",
   "metadata": {},
   "outputs": [],
   "source": [
    "quote=get_content(cont,tag=\"b\") # scrap quote\n",
    "\n",
    "author=get_content(cont,tag=\"em\") #scrap author\n",
    "\n",
    "#Delete extra headline\n",
    "del(quote[0])"
   ]
  },
  {
   "cell_type": "code",
   "execution_count": null,
   "id": "communist-swedish",
   "metadata": {
    "tags": []
   },
   "outputs": [],
   "source": [
    "final_quotes=[]\n",
    "for q,a in zip(quote,author):\n",
    "    \n",
    "    final_quotes.append((q[1:-1],a))"
   ]
  },
  {
   "cell_type": "markdown",
   "id": "exclusive-light",
   "metadata": {},
   "source": [
    "# Build a datafile"
   ]
  },
  {
   "cell_type": "code",
   "execution_count": null,
   "id": "neither-fancy",
   "metadata": {},
   "outputs": [],
   "source": [
    "df= pd.DataFrame(final_quotes, columns=[\"Quote\",\"Author\"])"
   ]
  },
  {
   "cell_type": "code",
   "execution_count": null,
   "id": "major-suicide",
   "metadata": {},
   "outputs": [],
   "source": [
    "df.head()"
   ]
  },
  {
   "cell_type": "markdown",
   "id": "powered-casting",
   "metadata": {},
   "source": [
    "# Exporting the dataset to a json file"
   ]
  },
  {
   "cell_type": "code",
   "execution_count": null,
   "id": "separate-composite",
   "metadata": {
    "tags": []
   },
   "outputs": [],
   "source": [
    "data=df.to_json(orient=\"records\")\n",
    "result=json.loads(data)"
   ]
  },
  {
   "cell_type": "code",
   "execution_count": null,
   "id": "integrated-polyester",
   "metadata": {},
   "outputs": [],
   "source": [
    "with open('movie_data.js', 'w') as outfile:\n",
    "    json.dump(result,outfile,indent=4)\n"
   ]
  }
 ],
 "metadata": {
  "kernelspec": {
   "display_name": "Python 3",
   "language": "python",
   "name": "python3"
  },
  "language_info": {
   "codemirror_mode": {
    "name": "ipython",
    "version": 3
   },
   "file_extension": ".py",
   "mimetype": "text/x-python",
   "name": "python",
   "nbconvert_exporter": "python",
   "pygments_lexer": "ipython3",
   "version": "3.8.5"
  }
 },
 "nbformat": 4,
 "nbformat_minor": 5
}
