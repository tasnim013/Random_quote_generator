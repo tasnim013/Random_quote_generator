{
 "cells": [
  {
   "cell_type": "code",
   "execution_count": null,
   "id": "ruled-battlefield",
   "metadata": {},
   "outputs": [],
   "source": [
    "from bs4 import BeautifulSoup\n",
    "import requests\n",
    "import pandas as pd\n",
    "import json"
   ]
  },
  {
   "cell_type": "markdown",
   "id": "phantom-former",
   "metadata": {},
   "source": [
    "# Source url"
   ]
  },
  {
   "cell_type": "code",
   "execution_count": null,
   "id": "sharing-principal",
   "metadata": {},
   "outputs": [],
   "source": [
    "url=\"https://blog.vantagecircle.com/funny-work-quotes/\""
   ]
  },
  {
   "cell_type": "markdown",
   "id": "coupled-butter",
   "metadata": {},
   "source": [
    "# Make Soup!"
   ]
  },
  {
   "cell_type": "code",
   "execution_count": null,
   "id": "visible-species",
   "metadata": {},
   "outputs": [],
   "source": [
    "r=requests.get(url)"
   ]
  },
  {
   "cell_type": "code",
   "execution_count": null,
   "id": "casual-practitioner",
   "metadata": {},
   "outputs": [],
   "source": [
    "soup=BeautifulSoup(r.text,\"html.parser\") #get soup object"
   ]
  },
  {
   "cell_type": "markdown",
   "id": "yellow-deficit",
   "metadata": {},
   "source": [
    "# Find content"
   ]
  },
  {
   "cell_type": "code",
   "execution_count": null,
   "id": "opposite-italy",
   "metadata": {},
   "outputs": [],
   "source": [
    "cont=soup.find_all(lambda tag: tag.name == 'blockquote' and not tag.attrs)"
   ]
  },
  {
   "cell_type": "code",
   "execution_count": null,
   "id": "liked-transcript",
   "metadata": {
    "tags": []
   },
   "outputs": [],
   "source": [
    "content=[]\n",
    "for t in cont:\n",
    "    temp=t.find(\"p\").text\n",
    "    content.append(temp)\n",
    "    \n",
    "#Delete unwanted text \n",
    "del(content[0])"
   ]
  },
  {
   "cell_type": "code",
   "execution_count": null,
   "id": "killing-humor",
   "metadata": {
    "tags": []
   },
   "outputs": [],
   "source": [
    "final_quotes=[]\n",
    "\n",
    "for c in content:\n",
    "    temp=c.split(\"\\n\")\n",
    "    \n",
    "    # to avoid missing value\n",
    "    if len(temp)>1:  \n",
    "        quote=temp[0]\n",
    "        author=temp[1]\n",
    "        final_quotes.append((quote,author))\n",
    "    "
   ]
  },
  {
   "cell_type": "markdown",
   "id": "catholic-riding",
   "metadata": {},
   "source": [
    "# Build a datafile"
   ]
  },
  {
   "cell_type": "code",
   "execution_count": null,
   "id": "guilty-terrace",
   "metadata": {},
   "outputs": [],
   "source": [
    "df= pd.DataFrame(final_quotes, columns=[\"Quote\",\"Author\"])"
   ]
  },
  {
   "cell_type": "code",
   "execution_count": null,
   "id": "vietnamese-effort",
   "metadata": {},
   "outputs": [],
   "source": [
    "df.head()"
   ]
  },
  {
   "cell_type": "markdown",
   "id": "close-galaxy",
   "metadata": {},
   "source": [
    "# Exporting the dataset to a json file"
   ]
  },
  {
   "cell_type": "code",
   "execution_count": null,
   "id": "found-inspector",
   "metadata": {
    "tags": []
   },
   "outputs": [],
   "source": [
    "data=df.to_json(orient=\"records\")\n",
    "result=json.loads(data)"
   ]
  },
  {
   "cell_type": "code",
   "execution_count": null,
   "id": "cheap-ceramic",
   "metadata": {},
   "outputs": [],
   "source": [
    "with open('humorous_data.js', 'w') as outfile:\n",
    "    json.dump(result,outfile,indent=4)\n"
   ]
  }
 ],
 "metadata": {
  "kernelspec": {
   "display_name": "Python 3",
   "language": "python",
   "name": "python3"
  },
  "language_info": {
   "codemirror_mode": {
    "name": "ipython",
    "version": 3
   },
   "file_extension": ".py",
   "mimetype": "text/x-python",
   "name": "python",
   "nbconvert_exporter": "python",
   "pygments_lexer": "ipython3",
   "version": "3.8.5"
  }
 },
 "nbformat": 4,
 "nbformat_minor": 5
}
