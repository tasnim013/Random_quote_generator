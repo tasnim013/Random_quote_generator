{
 "cells": [
  {
   "cell_type": "code",
   "execution_count": null,
   "id": "whole-spyware",
   "metadata": {},
   "outputs": [],
   "source": [
    "from bs4 import BeautifulSoup\n",
    "import requests\n",
    "import pandas as pd"
   ]
  },
  {
   "cell_type": "markdown",
   "id": "angry-hudson",
   "metadata": {},
   "source": [
    "# Source url"
   ]
  },
  {
   "cell_type": "code",
   "execution_count": null,
   "id": "relevant-soldier",
   "metadata": {},
   "outputs": [],
   "source": [
    "url=\"https://blog.vantagecircle.com/funny-work-quotes/\""
   ]
  },
  {
   "cell_type": "markdown",
   "id": "wicked-hormone",
   "metadata": {},
   "source": [
    "# Make Soup!"
   ]
  },
  {
   "cell_type": "code",
   "execution_count": null,
   "id": "actual-blend",
   "metadata": {},
   "outputs": [],
   "source": [
    "r=requests.get(url)"
   ]
  },
  {
   "cell_type": "code",
   "execution_count": null,
   "id": "historic-worthy",
   "metadata": {},
   "outputs": [],
   "source": [
    "#print(r.text[0:500])"
   ]
  },
  {
   "cell_type": "code",
   "execution_count": null,
   "id": "elementary-helping",
   "metadata": {},
   "outputs": [],
   "source": [
    "soup=BeautifulSoup(r.text,\"html.parser\") #get soup object"
   ]
  },
  {
   "cell_type": "markdown",
   "id": "cutting-astrology",
   "metadata": {},
   "source": [
    "# Find content"
   ]
  },
  {
   "cell_type": "code",
   "execution_count": null,
   "id": "vertical-thousand",
   "metadata": {},
   "outputs": [],
   "source": [
    "cont=soup.find_all(lambda tag: tag.name == 'blockquote' and not tag.attrs)"
   ]
  },
  {
   "cell_type": "code",
   "execution_count": null,
   "id": "false-oxide",
   "metadata": {
    "tags": []
   },
   "outputs": [],
   "source": [
    "content=[]\n",
    "for t in cont:\n",
    "    temp=t.find(\"p\").text\n",
    "    content.append(temp)\n",
    "    \n",
    "#Delete unwanted text \n",
    "del(content[0])"
   ]
  },
  {
   "cell_type": "code",
   "execution_count": null,
   "id": "basic-hearing",
   "metadata": {},
   "outputs": [],
   "source": []
  },
  {
   "cell_type": "code",
   "execution_count": null,
   "id": "direct-language",
   "metadata": {
    "tags": []
   },
   "outputs": [],
   "source": [
    "final_quotes=[]\n",
    "\n",
    "for c in content:\n",
    "    temp=c.split(\"\\n\")\n",
    "    \n",
    "    # to avoid missing value\n",
    "    if len(temp)>1:  \n",
    "        quote=temp[0]\n",
    "        author=temp[1]\n",
    "        final_quotes.append((quote,author))\n",
    "    "
   ]
  },
  {
   "cell_type": "code",
   "execution_count": null,
   "id": "thorough-harrison",
   "metadata": {},
   "outputs": [],
   "source": []
  },
  {
   "cell_type": "markdown",
   "id": "spectacular-thunder",
   "metadata": {},
   "source": [
    "# Build a datafile"
   ]
  },
  {
   "cell_type": "code",
   "execution_count": null,
   "id": "quality-duration",
   "metadata": {},
   "outputs": [],
   "source": [
    "df= pd.DataFrame(final_quotes, columns=[\"Quote\",\"Author\"])"
   ]
  },
  {
   "cell_type": "code",
   "execution_count": null,
   "id": "animated-bosnia",
   "metadata": {},
   "outputs": [],
   "source": [
    "df.head()"
   ]
  },
  {
   "cell_type": "markdown",
   "id": "mineral-operator",
   "metadata": {},
   "source": [
    "## Exporting the dataset to a json file"
   ]
  },
  {
   "cell_type": "code",
   "execution_count": null,
   "id": "subjective-authentication",
   "metadata": {
    "tags": []
   },
   "outputs": [],
   "source": [
    "df.to_json(\"./humorous_quote.json\",orient=\"index\")"
   ]
  },
  {
   "cell_type": "code",
   "execution_count": null,
   "id": "executive-karaoke",
   "metadata": {},
   "outputs": [],
   "source": []
  }
 ],
 "metadata": {
  "kernelspec": {
   "display_name": "Python 3",
   "language": "python",
   "name": "python3"
  },
  "language_info": {
   "codemirror_mode": {
    "name": "ipython",
    "version": 3
   },
   "file_extension": ".py",
   "mimetype": "text/x-python",
   "name": "python",
   "nbconvert_exporter": "python",
   "pygments_lexer": "ipython3",
   "version": "3.8.5"
  }
 },
 "nbformat": 4,
 "nbformat_minor": 5
}
