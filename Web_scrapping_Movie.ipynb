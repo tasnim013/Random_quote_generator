{
 "cells": [
  {
   "cell_type": "code",
   "execution_count": null,
   "id": "appropriate-default",
   "metadata": {},
   "outputs": [],
   "source": [
    "from bs4 import BeautifulSoup\n",
    "import requests\n",
    "import pandas as pd"
   ]
  },
  {
   "cell_type": "code",
   "execution_count": null,
   "id": "democratic-denmark",
   "metadata": {},
   "outputs": [],
   "source": [
    "def get_content(x,tag=\"\"):\n",
    "    content=[]\n",
    "    \n",
    "    for t in x:\n",
    "        temp=t.find(tag)\n",
    "        if temp:\n",
    "            content.append(temp.text)\n",
    "    return content"
   ]
  },
  {
   "cell_type": "code",
   "execution_count": null,
   "id": "secret-isolation",
   "metadata": {},
   "outputs": [],
   "source": []
  },
  {
   "cell_type": "markdown",
   "id": "quality-burns",
   "metadata": {},
   "source": [
    "# Source url"
   ]
  },
  {
   "cell_type": "code",
   "execution_count": null,
   "id": "passing-summit",
   "metadata": {},
   "outputs": [],
   "source": [
    "url=\"https://www.infoplease.com/culture-entertainment/film/top-100-movie-quotes\""
   ]
  },
  {
   "cell_type": "markdown",
   "id": "fifth-macintosh",
   "metadata": {},
   "source": [
    "# Make Soup!"
   ]
  },
  {
   "cell_type": "code",
   "execution_count": null,
   "id": "focal-converter",
   "metadata": {},
   "outputs": [],
   "source": [
    "r=requests.get(url)"
   ]
  },
  {
   "cell_type": "code",
   "execution_count": null,
   "id": "numerous-mathematics",
   "metadata": {},
   "outputs": [],
   "source": [
    "#print(r.text[0:500])"
   ]
  },
  {
   "cell_type": "code",
   "execution_count": null,
   "id": "behind-cosmetic",
   "metadata": {},
   "outputs": [],
   "source": [
    "soup=BeautifulSoup(r.text,\"html.parser\") #get soup object"
   ]
  },
  {
   "cell_type": "markdown",
   "id": "touched-steam",
   "metadata": {},
   "source": [
    "# Find content"
   ]
  },
  {
   "cell_type": "code",
   "execution_count": null,
   "id": "stylish-intensity",
   "metadata": {},
   "outputs": [],
   "source": [
    "cont=soup.find_all(lambda tag: tag.name == 'p' and not tag.attrs)"
   ]
  },
  {
   "cell_type": "code",
   "execution_count": null,
   "id": "based-synthetic",
   "metadata": {},
   "outputs": [],
   "source": []
  },
  {
   "cell_type": "code",
   "execution_count": null,
   "id": "ruled-abraham",
   "metadata": {},
   "outputs": [],
   "source": [
    "quote=get_content(cont,tag=\"b\") # scrap quote\n",
    "\n",
    "author=get_content(cont,tag=\"em\") #scrap movie name\n",
    "\n",
    "#Delete extra headline\n",
    "del(quote[0])"
   ]
  },
  {
   "cell_type": "code",
   "execution_count": null,
   "id": "attractive-procedure",
   "metadata": {},
   "outputs": [],
   "source": []
  },
  {
   "cell_type": "code",
   "execution_count": null,
   "id": "negative-steam",
   "metadata": {
    "tags": []
   },
   "outputs": [],
   "source": [
    "final_quotes=[]\n",
    "for q,a in zip(quote,author):\n",
    "    \n",
    "    final_quotes.append((q[1:-1],a))"
   ]
  },
  {
   "cell_type": "markdown",
   "id": "excess-addition",
   "metadata": {},
   "source": [
    "# Build a datafile"
   ]
  },
  {
   "cell_type": "code",
   "execution_count": null,
   "id": "organizational-grass",
   "metadata": {},
   "outputs": [],
   "source": [
    "df= pd.DataFrame(final_quotes, columns=[\"Quote\",\"Author\"])"
   ]
  },
  {
   "cell_type": "code",
   "execution_count": null,
   "id": "loving-marine",
   "metadata": {},
   "outputs": [],
   "source": [
    "df.head()"
   ]
  },
  {
   "cell_type": "markdown",
   "id": "geological-penguin",
   "metadata": {},
   "source": [
    "## Exporting the dataset to a json file"
   ]
  },
  {
   "cell_type": "code",
   "execution_count": null,
   "id": "formed-poetry",
   "metadata": {
    "tags": []
   },
   "outputs": [],
   "source": [
    "df.to_json(\"./movie_quote.json\",orient=\"index\")"
   ]
  },
  {
   "cell_type": "code",
   "execution_count": null,
   "id": "adopted-player",
   "metadata": {},
   "outputs": [],
   "source": []
  }
 ],
 "metadata": {
  "kernelspec": {
   "display_name": "Python 3",
   "language": "python",
   "name": "python3"
  },
  "language_info": {
   "codemirror_mode": {
    "name": "ipython",
    "version": 3
   },
   "file_extension": ".py",
   "mimetype": "text/x-python",
   "name": "python",
   "nbconvert_exporter": "python",
   "pygments_lexer": "ipython3",
   "version": "3.8.5"
  }
 },
 "nbformat": 4,
 "nbformat_minor": 5
}
