{
 "cells": [
  {
   "cell_type": "code",
   "execution_count": null,
   "id": "acceptable-corporation",
   "metadata": {},
   "outputs": [],
   "source": [
    "from bs4 import BeautifulSoup\n",
    "import requests\n",
    "import pandas as pd\n",
    "import json"
   ]
  },
  {
   "cell_type": "markdown",
   "id": "parental-waste",
   "metadata": {},
   "source": [
    "# Function to get clean content"
   ]
  },
  {
   "cell_type": "code",
   "execution_count": null,
   "id": "institutional-simple",
   "metadata": {},
   "outputs": [],
   "source": [
    "def clean_text(x):\n",
    "    \n",
    "    temp=str(x)\n",
    "    \n",
    "    temp_split=temp.split(\".\",maxsplit=2)\n",
    "    text=temp_split[0][2:]\n",
    "    author=temp_split[-1][1:-2]\n",
    "    \n",
    "    return text,author"
   ]
  },
  {
   "cell_type": "markdown",
   "id": "indirect-mercury",
   "metadata": {},
   "source": [
    "# Source url"
   ]
  },
  {
   "cell_type": "code",
   "execution_count": null,
   "id": "suspended-retro",
   "metadata": {},
   "outputs": [],
   "source": [
    "url=\"https://louisem.com/63350/best-motivational-quotes\""
   ]
  },
  {
   "cell_type": "markdown",
   "id": "radical-bracket",
   "metadata": {},
   "source": [
    "# Make Soup!"
   ]
  },
  {
   "cell_type": "code",
   "execution_count": null,
   "id": "sixth-style",
   "metadata": {},
   "outputs": [],
   "source": [
    "r=requests.get(url)"
   ]
  },
  {
   "cell_type": "code",
   "execution_count": null,
   "id": "clear-signal",
   "metadata": {},
   "outputs": [],
   "source": [
    "soup=BeautifulSoup(r.text,\"html.parser\") #get soup object"
   ]
  },
  {
   "cell_type": "markdown",
   "id": "compliant-lodge",
   "metadata": {},
   "source": [
    "# Find content"
   ]
  },
  {
   "cell_type": "code",
   "execution_count": null,
   "id": "every-equity",
   "metadata": {},
   "outputs": [],
   "source": [
    "cont=soup.find_all(lambda tag: tag.name == 'p' and not tag.attrs)"
   ]
  },
  {
   "cell_type": "code",
   "execution_count": null,
   "id": "scenic-federal",
   "metadata": {},
   "outputs": [],
   "source": [
    "\n",
    "quotes=[]\n",
    "for i in range(10,160):\n",
    "    if \"<\" not in str(cont[i].contents):\n",
    "        text,author =clean_text(x=cont[i].contents)\n",
    "        \n",
    "        if len(author)<23:\n",
    "            quotes.append((text,author))\n",
    "        \n"
   ]
  },
  {
   "cell_type": "markdown",
   "id": "known-green",
   "metadata": {},
   "source": [
    "# Build a datafile"
   ]
  },
  {
   "cell_type": "code",
   "execution_count": null,
   "id": "buried-texas",
   "metadata": {},
   "outputs": [],
   "source": [
    "df= pd.DataFrame(quotes, columns=[\"Quote\",\"Author\"])"
   ]
  },
  {
   "cell_type": "code",
   "execution_count": null,
   "id": "caroline-hepatitis",
   "metadata": {},
   "outputs": [],
   "source": [
    "df.head()"
   ]
  },
  {
   "cell_type": "markdown",
   "id": "alive-baptist",
   "metadata": {},
   "source": [
    "# Exporting the dataset to a json file"
   ]
  },
  {
   "cell_type": "code",
   "execution_count": null,
   "id": "colored-removal",
   "metadata": {
    "tags": []
   },
   "outputs": [],
   "source": [
    "data=df.to_json(orient=\"records\")\n",
    "result=json.loads(data)"
   ]
  },
  {
   "cell_type": "code",
   "execution_count": null,
   "id": "digital-forum",
   "metadata": {},
   "outputs": [],
   "source": [
    "with open('motivational_data.js', 'w') as outfile:\n",
    "    json.dump(result, outfile,indent=4)\n"
   ]
  }
 ],
 "metadata": {
  "kernelspec": {
   "display_name": "Python 3",
   "language": "python",
   "name": "python3"
  },
  "language_info": {
   "codemirror_mode": {
    "name": "ipython",
    "version": 3
   },
   "file_extension": ".py",
   "mimetype": "text/x-python",
   "name": "python",
   "nbconvert_exporter": "python",
   "pygments_lexer": "ipython3",
   "version": "3.8.5"
  }
 },
 "nbformat": 4,
 "nbformat_minor": 5
}
