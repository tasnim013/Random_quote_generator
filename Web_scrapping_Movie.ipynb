{
 "cells": [
  {
   "cell_type": "code",
   "execution_count": null,
   "id": "lovely-valve",
   "metadata": {},
   "outputs": [],
   "source": [
    "from bs4 import BeautifulSoup\n",
    "import requests\n",
    "import pandas as pd"
   ]
  },
  {
   "cell_type": "markdown",
   "id": "laden-color",
   "metadata": {},
   "source": [
    "# Function to get clean content"
   ]
  },
  {
   "cell_type": "code",
   "execution_count": null,
   "id": "whole-professor",
   "metadata": {},
   "outputs": [],
   "source": [
    "def get_content(x,tag=\"\"):\n",
    "    content=[]\n",
    "    \n",
    "    for t in x:\n",
    "        temp=t.find(tag)\n",
    "        if temp:\n",
    "            content.append(temp.text)\n",
    "    return content"
   ]
  },
  {
   "cell_type": "code",
   "execution_count": null,
   "id": "objective-arizona",
   "metadata": {},
   "outputs": [],
   "source": []
  },
  {
   "cell_type": "markdown",
   "id": "spiritual-sheep",
   "metadata": {},
   "source": [
    "# Source url"
   ]
  },
  {
   "cell_type": "code",
   "execution_count": null,
   "id": "addressed-oasis",
   "metadata": {},
   "outputs": [],
   "source": [
    "url=\"https://www.infoplease.com/culture-entertainment/film/top-100-movie-quotes\""
   ]
  },
  {
   "cell_type": "markdown",
   "id": "civilian-lover",
   "metadata": {},
   "source": [
    "# Make Soup!"
   ]
  },
  {
   "cell_type": "code",
   "execution_count": null,
   "id": "neural-catholic",
   "metadata": {},
   "outputs": [],
   "source": [
    "r=requests.get(url)"
   ]
  },
  {
   "cell_type": "code",
   "execution_count": null,
   "id": "charitable-literature",
   "metadata": {},
   "outputs": [],
   "source": [
    "#print(r.text[0:500])"
   ]
  },
  {
   "cell_type": "code",
   "execution_count": null,
   "id": "better-hardwood",
   "metadata": {},
   "outputs": [],
   "source": [
    "soup=BeautifulSoup(r.text,\"html.parser\") #get soup object"
   ]
  },
  {
   "cell_type": "markdown",
   "id": "decent-cradle",
   "metadata": {},
   "source": [
    "# Find content"
   ]
  },
  {
   "cell_type": "code",
   "execution_count": null,
   "id": "indonesian-belle",
   "metadata": {},
   "outputs": [],
   "source": [
    "cont=soup.find_all(lambda tag: tag.name == 'p' and not tag.attrs)"
   ]
  },
  {
   "cell_type": "code",
   "execution_count": null,
   "id": "present-conversation",
   "metadata": {},
   "outputs": [],
   "source": []
  },
  {
   "cell_type": "code",
   "execution_count": null,
   "id": "infinite-convention",
   "metadata": {},
   "outputs": [],
   "source": [
    "quote=get_content(cont,tag=\"b\") # scrap quote\n",
    "\n",
    "author=get_content(cont,tag=\"em\") #scrap movie name\n",
    "\n",
    "#Delete extra headline\n",
    "del(quote[0])"
   ]
  },
  {
   "cell_type": "code",
   "execution_count": null,
   "id": "stopped-seafood",
   "metadata": {},
   "outputs": [],
   "source": []
  },
  {
   "cell_type": "code",
   "execution_count": null,
   "id": "gross-chapter",
   "metadata": {
    "tags": []
   },
   "outputs": [],
   "source": [
    "final_quotes=[]\n",
    "for q,a in zip(quote,author):\n",
    "    \n",
    "    final_quotes.append((q[1:-1],a))"
   ]
  },
  {
   "cell_type": "markdown",
   "id": "accurate-nickel",
   "metadata": {},
   "source": [
    "# Build a datafile"
   ]
  },
  {
   "cell_type": "code",
   "execution_count": null,
   "id": "similar-pleasure",
   "metadata": {},
   "outputs": [],
   "source": [
    "df= pd.DataFrame(final_quotes, columns=[\"Quote\",\"Author\"])"
   ]
  },
  {
   "cell_type": "code",
   "execution_count": null,
   "id": "celtic-community",
   "metadata": {},
   "outputs": [],
   "source": [
    "df.head()"
   ]
  },
  {
   "cell_type": "markdown",
   "id": "selective-general",
   "metadata": {},
   "source": [
    "## Exporting the dataset to a json file"
   ]
  },
  {
   "cell_type": "code",
   "execution_count": null,
   "id": "metric-inside",
   "metadata": {
    "tags": []
   },
   "outputs": [],
   "source": [
    "df.to_json(\"./movie_quote.json\",orient=\"index\")"
   ]
  },
  {
   "cell_type": "code",
   "execution_count": null,
   "id": "protecting-trauma",
   "metadata": {},
   "outputs": [],
   "source": []
  }
 ],
 "metadata": {
  "kernelspec": {
   "display_name": "Python 3",
   "language": "python",
   "name": "python3"
  },
  "language_info": {
   "codemirror_mode": {
    "name": "ipython",
    "version": 3
   },
   "file_extension": ".py",
   "mimetype": "text/x-python",
   "name": "python",
   "nbconvert_exporter": "python",
   "pygments_lexer": "ipython3",
   "version": "3.8.5"
  }
 },
 "nbformat": 4,
 "nbformat_minor": 5
}
