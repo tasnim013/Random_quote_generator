{
 "cells": [
  {
   "cell_type": "code",
   "execution_count": null,
   "id": "developed-timber",
   "metadata": {},
   "outputs": [],
   "source": [
    "from bs4 import BeautifulSoup\n",
    "import requests\n",
    "import pandas as pd"
   ]
  },
  {
   "cell_type": "code",
   "execution_count": null,
   "id": "centered-demand",
   "metadata": {},
   "outputs": [],
   "source": [
    "def clean_text(x):\n",
    "    \n",
    "    temp=str(x)\n",
    "    \n",
    "    temp_split=temp.split(\".\",maxsplit=2)\n",
    "    #print(\"Splited::: \",temp_split)\n",
    "\n",
    "    text=temp_split[0][2:]\n",
    "    author=temp_split[-1][1:-2]\n",
    "    #print(author)\n",
    "    \n",
    "    return text,author"
   ]
  },
  {
   "cell_type": "raw",
   "id": "varying-barrier",
   "metadata": {},
   "source": []
  },
  {
   "cell_type": "markdown",
   "id": "particular-yahoo",
   "metadata": {},
   "source": [
    "# Source url"
   ]
  },
  {
   "cell_type": "code",
   "execution_count": null,
   "id": "gross-retail",
   "metadata": {},
   "outputs": [],
   "source": [
    "url=\"https://louisem.com/63350/best-motivational-quotes\""
   ]
  },
  {
   "cell_type": "markdown",
   "id": "piano-craft",
   "metadata": {},
   "source": [
    "# Make Soup!"
   ]
  },
  {
   "cell_type": "code",
   "execution_count": null,
   "id": "refined-collar",
   "metadata": {},
   "outputs": [],
   "source": [
    "r=requests.get(url)"
   ]
  },
  {
   "cell_type": "raw",
   "id": "administrative-multimedia",
   "metadata": {},
   "source": [
    "print(r.text[0:500])"
   ]
  },
  {
   "cell_type": "code",
   "execution_count": null,
   "id": "sonic-tourist",
   "metadata": {},
   "outputs": [],
   "source": [
    "soup=BeautifulSoup(r.text,\"html.parser\") #get soup object"
   ]
  },
  {
   "cell_type": "markdown",
   "id": "creative-agency",
   "metadata": {},
   "source": [
    "# Find content"
   ]
  },
  {
   "cell_type": "code",
   "execution_count": null,
   "id": "logical-prescription",
   "metadata": {},
   "outputs": [],
   "source": [
    "cont=soup.find_all(lambda tag: tag.name == 'p' and not tag.attrs)"
   ]
  },
  {
   "cell_type": "code",
   "execution_count": null,
   "id": "handed-purchase",
   "metadata": {},
   "outputs": [],
   "source": [
    "len(cont)"
   ]
  },
  {
   "cell_type": "code",
   "execution_count": null,
   "id": "handled-prayer",
   "metadata": {},
   "outputs": [],
   "source": [
    "\n",
    "quotes=[]\n",
    "for i in range(10,160):\n",
    "    if \"<\" not in str(cont[i].contents):\n",
    "        text,author =clean_text(x=cont[i].contents)\n",
    "        \n",
    "        if len(author)<23:\n",
    "            quotes.append((text,author))\n",
    "        \n"
   ]
  },
  {
   "cell_type": "markdown",
   "id": "rubber-december",
   "metadata": {},
   "source": [
    "# Build a datafile"
   ]
  },
  {
   "cell_type": "code",
   "execution_count": null,
   "id": "hybrid-performance",
   "metadata": {},
   "outputs": [],
   "source": [
    "df= pd.DataFrame(quotes, columns=[\"Quote\",\"Author\"])"
   ]
  },
  {
   "cell_type": "code",
   "execution_count": null,
   "id": "awful-canada",
   "metadata": {},
   "outputs": [],
   "source": [
    "df.head()"
   ]
  },
  {
   "cell_type": "markdown",
   "id": "empty-university",
   "metadata": {},
   "source": [
    "## Exporting the dataset to a json file"
   ]
  },
  {
   "cell_type": "raw",
   "id": "sustained-sellers",
   "metadata": {
    "tags": []
   },
   "source": [
    "df.to_json(\"./motivational_quote.json\",orient=\"index\")"
   ]
  },
  {
   "cell_type": "code",
   "execution_count": null,
   "id": "sorted-headset",
   "metadata": {},
   "outputs": [],
   "source": []
  },
  {
   "cell_type": "code",
   "execution_count": null,
   "id": "acceptable-mileage",
   "metadata": {},
   "outputs": [],
   "source": []
  },
  {
   "cell_type": "code",
   "execution_count": null,
   "id": "dated-southeast",
   "metadata": {},
   "outputs": [],
   "source": []
  },
  {
   "cell_type": "code",
   "execution_count": null,
   "id": "primary-athens",
   "metadata": {},
   "outputs": [],
   "source": []
  }
 ],
 "metadata": {
  "kernelspec": {
   "display_name": "Python 3",
   "language": "python",
   "name": "python3"
  },
  "language_info": {
   "codemirror_mode": {
    "name": "ipython",
    "version": 3
   },
   "file_extension": ".py",
   "mimetype": "text/x-python",
   "name": "python",
   "nbconvert_exporter": "python",
   "pygments_lexer": "ipython3",
   "version": "3.8.5"
  }
 },
 "nbformat": 4,
 "nbformat_minor": 5
}
