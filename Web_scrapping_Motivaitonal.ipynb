{
 "cells": [
  {
   "cell_type": "code",
   "execution_count": null,
   "id": "twelve-immunology",
   "metadata": {},
   "outputs": [],
   "source": [
    "from bs4 import BeautifulSoup\n",
    "import requests\n",
    "import pandas as pd"
   ]
  },
  {
   "cell_type": "code",
   "execution_count": null,
   "id": "material-builder",
   "metadata": {},
   "outputs": [],
   "source": [
    "def clean_text(x):\n",
    "    \n",
    "    temp=str(x)\n",
    "    \n",
    "    temp_split=temp.split(\".\",maxsplit=2)\n",
    "    #print(\"Splited::: \",temp_split)\n",
    "\n",
    "    text=temp_split[0][2:]\n",
    "    author=temp_split[-1][1:-2]\n",
    "    #print(author)\n",
    "    \n",
    "    return text,author"
   ]
  },
  {
   "cell_type": "raw",
   "id": "distributed-emission",
   "metadata": {},
   "source": []
  },
  {
   "cell_type": "markdown",
   "id": "digital-storage",
   "metadata": {},
   "source": [
    "# Source url"
   ]
  },
  {
   "cell_type": "code",
   "execution_count": null,
   "id": "placed-profession",
   "metadata": {},
   "outputs": [],
   "source": [
    "url=\"https://louisem.com/63350/best-motivational-quotes\""
   ]
  },
  {
   "cell_type": "markdown",
   "id": "straight-greeting",
   "metadata": {},
   "source": [
    "# Make Soup!"
   ]
  },
  {
   "cell_type": "code",
   "execution_count": null,
   "id": "corresponding-coaching",
   "metadata": {},
   "outputs": [],
   "source": [
    "r=requests.get(url)"
   ]
  },
  {
   "cell_type": "code",
   "execution_count": null,
   "id": "curious-sunglasses",
   "metadata": {},
   "outputs": [],
   "source": [
    "#print(r.text[0:500])"
   ]
  },
  {
   "cell_type": "code",
   "execution_count": null,
   "id": "psychological-uncle",
   "metadata": {},
   "outputs": [],
   "source": [
    "soup=BeautifulSoup(r.text,\"html.parser\") #get soup object"
   ]
  },
  {
   "cell_type": "markdown",
   "id": "first-matter",
   "metadata": {},
   "source": [
    "# Find content"
   ]
  },
  {
   "cell_type": "code",
   "execution_count": null,
   "id": "imported-netherlands",
   "metadata": {},
   "outputs": [],
   "source": [
    "cont=soup.find_all(lambda tag: tag.name == 'p' and not tag.attrs)"
   ]
  },
  {
   "cell_type": "code",
   "execution_count": null,
   "id": "exempt-judgment",
   "metadata": {},
   "outputs": [],
   "source": [
    "len(cont)"
   ]
  },
  {
   "cell_type": "code",
   "execution_count": null,
   "id": "rocky-intake",
   "metadata": {},
   "outputs": [],
   "source": [
    "\n",
    "quotes=[]\n",
    "for i in range(10,160):\n",
    "    if \"<\" not in str(cont[i].contents):\n",
    "        text,author =clean_text(x=cont[i].contents)\n",
    "        \n",
    "        if len(author)<23:\n",
    "            quotes.append((text,author))\n",
    "        \n"
   ]
  },
  {
   "cell_type": "markdown",
   "id": "green-liability",
   "metadata": {},
   "source": [
    "# Build a datafile"
   ]
  },
  {
   "cell_type": "code",
   "execution_count": null,
   "id": "distant-labor",
   "metadata": {},
   "outputs": [],
   "source": [
    "df= pd.DataFrame(quotes, columns=[\"Quote\",\"Author\"])"
   ]
  },
  {
   "cell_type": "code",
   "execution_count": null,
   "id": "hearing-lunch",
   "metadata": {},
   "outputs": [],
   "source": [
    "df.head()"
   ]
  },
  {
   "cell_type": "markdown",
   "id": "vietnamese-youth",
   "metadata": {},
   "source": [
    "## Exporting the dataset to a json file"
   ]
  },
  {
   "cell_type": "code",
   "execution_count": null,
   "id": "sustained-pizza",
   "metadata": {
    "tags": []
   },
   "outputs": [],
   "source": [
    "df.to_json(\"./motivational_quote.json\",orient=\"index\")"
   ]
  },
  {
   "cell_type": "code",
   "execution_count": null,
   "id": "interracial-wallace",
   "metadata": {},
   "outputs": [],
   "source": []
  },
  {
   "cell_type": "code",
   "execution_count": null,
   "id": "sunset-weekly",
   "metadata": {},
   "outputs": [],
   "source": []
  },
  {
   "cell_type": "code",
   "execution_count": null,
   "id": "static-motel",
   "metadata": {},
   "outputs": [],
   "source": []
  },
  {
   "cell_type": "code",
   "execution_count": null,
   "id": "crucial-investigator",
   "metadata": {},
   "outputs": [],
   "source": []
  }
 ],
 "metadata": {
  "kernelspec": {
   "display_name": "Python 3",
   "language": "python",
   "name": "python3"
  },
  "language_info": {
   "codemirror_mode": {
    "name": "ipython",
    "version": 3
   },
   "file_extension": ".py",
   "mimetype": "text/x-python",
   "name": "python",
   "nbconvert_exporter": "python",
   "pygments_lexer": "ipython3",
   "version": "3.8.5"
  }
 },
 "nbformat": 4,
 "nbformat_minor": 5
}
